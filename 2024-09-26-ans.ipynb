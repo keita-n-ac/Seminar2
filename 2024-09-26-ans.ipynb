{
 "cells": [
  {
   "cell_type": "markdown",
   "id": "7249e2dbad9a30a3",
   "metadata": {},
   "source": [
    "### 演習1\n",
    "1. print()を使って，自分の名前を表示しなさい"
   ]
  },
  {
   "cell_type": "code",
   "id": "947be5427062ed8b",
   "metadata": {
    "ExecuteTime": {
     "end_time": "2024-10-09T04:45:09.963928Z",
     "start_time": "2024-10-09T04:45:09.961868Z"
    }
   },
   "source": "print('札幌 太郎')",
   "outputs": [
    {
     "name": "stdout",
     "output_type": "stream",
     "text": [
      "札幌 太郎\n"
     ]
    }
   ],
   "execution_count": 1
  },
  {
   "metadata": {},
   "cell_type": "markdown",
   "source": "2. print()を使って，Hello World と表示しなさい",
   "id": "f8b1e95698a8f207"
  },
  {
   "metadata": {
    "ExecuteTime": {
     "end_time": "2024-10-09T04:45:32.884053Z",
     "start_time": "2024-10-09T04:45:32.880324Z"
    }
   },
   "cell_type": "code",
   "source": "print('Hello World')",
   "id": "82ec41a10db10f7c",
   "outputs": [
    {
     "name": "stdout",
     "output_type": "stream",
     "text": [
      "Hello World\n"
     ]
    }
   ],
   "execution_count": 2
  },
  {
   "metadata": {},
   "cell_type": "markdown",
   "source": "3. print()を使って，2の10乗の値を表示しなさい",
   "id": "c21e07634869b1bf"
  },
  {
   "metadata": {
    "ExecuteTime": {
     "end_time": "2024-10-09T04:45:45.242699Z",
     "start_time": "2024-10-09T04:45:45.240094Z"
    }
   },
   "cell_type": "code",
   "source": "print(2 ** 10)",
   "id": "cf72dc1826b335be",
   "outputs": [
    {
     "name": "stdout",
     "output_type": "stream",
     "text": [
      "1024\n"
     ]
    }
   ],
   "execution_count": 3
  },
  {
   "metadata": {},
   "cell_type": "markdown",
   "source": "4. print()を使って，200円の商品を3つ，30円の商品を6つ購入した際の，消費税を10%込みの値段を表示しなさい",
   "id": "df2060870ee62b57"
  },
  {
   "metadata": {
    "ExecuteTime": {
     "end_time": "2024-10-09T05:49:28.860970Z",
     "start_time": "2024-10-09T05:49:28.858503Z"
    }
   },
   "cell_type": "code",
   "source": "print(int((200 * 3 + 30 * 6) * 1.1))",
   "id": "b7d4e5be35a4a90e",
   "outputs": [
    {
     "name": "stdout",
     "output_type": "stream",
     "text": [
      "858\n"
     ]
    }
   ],
   "execution_count": 5
  },
  {
   "metadata": {},
   "cell_type": "markdown",
   "source": [
    "### 演習2\n",
    "1. 1つの整数を読み込んで，その整数の３乗の値を出力するプログラムを作成せよ"
   ],
   "id": "bf2701871c4b23c4"
  },
  {
   "metadata": {
    "ExecuteTime": {
     "end_time": "2024-10-09T05:50:56.409672Z",
     "start_time": "2024-10-09T05:50:53.344326Z"
    }
   },
   "cell_type": "code",
   "source": [
    "a = int(input('整数を1つ入力してください'))\n",
    "print(a)\n",
    "print(a ** 3)"
   ],
   "id": "f6ea74ac6505ac1c",
   "outputs": [
    {
     "name": "stdout",
     "output_type": "stream",
     "text": [
      "12\n",
      "1728\n"
     ]
    }
   ],
   "execution_count": 7
  },
  {
   "metadata": {},
   "cell_type": "markdown",
   "source": "2. 長方形の縦の長さと横の長さを読み込んで，その長方形の面積と周の長さを求めるプログラムを作成せよ",
   "id": "2606f22332c1826b"
  },
  {
   "metadata": {
    "ExecuteTime": {
     "end_time": "2024-10-09T05:53:22.686158Z",
     "start_time": "2024-10-09T05:53:19.519331Z"
    }
   },
   "cell_type": "code",
   "source": [
    "tate = int(input('長方形の縦の長さを入力してください'))\n",
    "yoko = int(input('長方形の横の長さを入力してください'))\n",
    "print('縦', tate)\n",
    "print('横', yoko)\n",
    "print('周囲の長さ', 2 * tate + 2 * yoko)\n",
    "print('面積', tate * yoko)"
   ],
   "id": "3c51b47895738c31",
   "outputs": [
    {
     "name": "stdout",
     "output_type": "stream",
     "text": [
      "縦 3\n",
      "横 4\n",
      "周囲の長さ 14\n",
      "面積 12\n"
     ]
    }
   ],
   "execution_count": 9
  },
  {
   "metadata": {},
   "cell_type": "markdown",
   "source": "3. キーボードから名前を読み込んで，Hello, 名前! と出力するプログラム作成せよ",
   "id": "56f3a447eb579103"
  },
  {
   "metadata": {
    "ExecuteTime": {
     "end_time": "2024-10-09T05:54:37.828706Z",
     "start_time": "2024-10-09T05:54:33.766661Z"
    }
   },
   "cell_type": "code",
   "source": [
    "name = input('名前を入力してください')\n",
    "print('Hello '+ name + '!')"
   ],
   "id": "cc4aa8e26762420a",
   "outputs": [
    {
     "name": "stdout",
     "output_type": "stream",
     "text": [
      "Hello Taro!\n"
     ]
    }
   ],
   "execution_count": 11
  },
  {
   "metadata": {
    "ExecuteTime": {
     "end_time": "2024-10-09T05:56:28.563954Z",
     "start_time": "2024-10-09T05:56:24.957459Z"
    }
   },
   "cell_type": "code",
   "source": [
    "S = int(input('秒数を入力してください'))\n",
    "h = S // 3600\n",
    "S = S % 3600\n",
    "m = S // 60\n",
    "s = S % 60\n",
    "print(str(h)+':'+str(m)+':'+str(s))"
   ],
   "id": "46f53e6542be0af2",
   "outputs": [
    {
     "name": "stdout",
     "output_type": "stream",
     "text": [
      "2:1:1\n"
     ]
    }
   ],
   "execution_count": 13
  },
  {
   "metadata": {},
   "cell_type": "code",
   "outputs": [],
   "execution_count": null,
   "source": "",
   "id": "47e8da43ed7e39b3"
  }
 ],
 "metadata": {
  "kernelspec": {
   "display_name": "Python 3 (ipykernel)",
   "language": "python",
   "name": "python3"
  },
  "language_info": {
   "codemirror_mode": {
    "name": "ipython",
    "version": 3
   },
   "file_extension": ".py",
   "mimetype": "text/x-python",
   "name": "python",
   "nbconvert_exporter": "python",
   "pygments_lexer": "ipython3",
   "version": "3.8.10"
  }
 },
 "nbformat": 4,
 "nbformat_minor": 5
}
